{
 "cells": [
  {
   "cell_type": "code",
   "execution_count": 1,
   "metadata": {},
   "outputs": [],
   "source": [
    "# 1-1-Read and load data"
   ]
  },
  {
   "cell_type": "code",
   "execution_count": 2,
   "metadata": {},
   "outputs": [],
   "source": [
    "import numpy as np\n",
    "import pandas as pd\n",
    "from pandas import read_excel\n",
    "from pandas import ExcelFile"
   ]
  },
  {
   "cell_type": "code",
   "execution_count": 3,
   "metadata": {},
   "outputs": [],
   "source": [
    "sleepclinic_df = pd.read_excel('sleep-clinic.xlsx', index_col='Gender')"
   ]
  },
  {
   "cell_type": "code",
   "execution_count": 4,
   "metadata": {},
   "outputs": [
    {
     "data": {
      "text/html": [
       "<div>\n",
       "<style scoped>\n",
       "    .dataframe tbody tr th:only-of-type {\n",
       "        vertical-align: middle;\n",
       "    }\n",
       "\n",
       "    .dataframe tbody tr th {\n",
       "        vertical-align: top;\n",
       "    }\n",
       "\n",
       "    .dataframe thead th {\n",
       "        text-align: right;\n",
       "    }\n",
       "</style>\n",
       "<table border=\"1\" class=\"dataframe\">\n",
       "  <thead>\n",
       "    <tr style=\"text-align: right;\">\n",
       "      <th></th>\n",
       "      <th>MaritalStatus</th>\n",
       "      <th>age</th>\n",
       "      <th>NeckDiameter</th>\n",
       "      <th>AbdomenDiameter</th>\n",
       "      <th>PelvicDiameter</th>\n",
       "      <th>Weight</th>\n",
       "      <th>Height</th>\n",
       "      <th>Malampaty</th>\n",
       "      <th>Micrognotia</th>\n",
       "      <th>snoring1</th>\n",
       "      <th>...</th>\n",
       "      <th>DASdepressed</th>\n",
       "      <th>DASimpatient</th>\n",
       "      <th>DASfrightend</th>\n",
       "      <th>DASnowilling</th>\n",
       "      <th>DASworthless</th>\n",
       "      <th>DASirritable</th>\n",
       "      <th>DAStachycardia</th>\n",
       "      <th>DASanxiety</th>\n",
       "      <th>DASanhedonia</th>\n",
       "      <th>Anxiety</th>\n",
       "    </tr>\n",
       "    <tr>\n",
       "      <th>Gender</th>\n",
       "      <th></th>\n",
       "      <th></th>\n",
       "      <th></th>\n",
       "      <th></th>\n",
       "      <th></th>\n",
       "      <th></th>\n",
       "      <th></th>\n",
       "      <th></th>\n",
       "      <th></th>\n",
       "      <th></th>\n",
       "      <th></th>\n",
       "      <th></th>\n",
       "      <th></th>\n",
       "      <th></th>\n",
       "      <th></th>\n",
       "      <th></th>\n",
       "      <th></th>\n",
       "      <th></th>\n",
       "      <th></th>\n",
       "      <th></th>\n",
       "      <th></th>\n",
       "    </tr>\n",
       "  </thead>\n",
       "  <tbody>\n",
       "    <tr>\n",
       "      <th>1</th>\n",
       "      <td>2.0</td>\n",
       "      <td>35.0</td>\n",
       "      <td>50.0</td>\n",
       "      <td>136.0</td>\n",
       "      <td>125.0</td>\n",
       "      <td>128.0</td>\n",
       "      <td>172.0</td>\n",
       "      <td>NaN</td>\n",
       "      <td>NaN</td>\n",
       "      <td>NaN</td>\n",
       "      <td>...</td>\n",
       "      <td>2.0</td>\n",
       "      <td>3.0</td>\n",
       "      <td>1.0</td>\n",
       "      <td>2.0</td>\n",
       "      <td>2.0</td>\n",
       "      <td>3.0</td>\n",
       "      <td>2.0</td>\n",
       "      <td>1.0</td>\n",
       "      <td>2.0</td>\n",
       "      <td>1</td>\n",
       "    </tr>\n",
       "    <tr>\n",
       "      <th>2</th>\n",
       "      <td>2.0</td>\n",
       "      <td>57.0</td>\n",
       "      <td>42.0</td>\n",
       "      <td>111.0</td>\n",
       "      <td>117.0</td>\n",
       "      <td>84.0</td>\n",
       "      <td>148.0</td>\n",
       "      <td>NaN</td>\n",
       "      <td>NaN</td>\n",
       "      <td>NaN</td>\n",
       "      <td>...</td>\n",
       "      <td>3.0</td>\n",
       "      <td>3.0</td>\n",
       "      <td>1.0</td>\n",
       "      <td>2.0</td>\n",
       "      <td>3.0</td>\n",
       "      <td>3.0</td>\n",
       "      <td>2.0</td>\n",
       "      <td>0.0</td>\n",
       "      <td>3.0</td>\n",
       "      <td>2</td>\n",
       "    </tr>\n",
       "    <tr>\n",
       "      <th>1</th>\n",
       "      <td>2.0</td>\n",
       "      <td>NaN</td>\n",
       "      <td>43.0</td>\n",
       "      <td>106.0</td>\n",
       "      <td>107.0</td>\n",
       "      <td>88.0</td>\n",
       "      <td>177.0</td>\n",
       "      <td>NaN</td>\n",
       "      <td>NaN</td>\n",
       "      <td>NaN</td>\n",
       "      <td>...</td>\n",
       "      <td>3.0</td>\n",
       "      <td>1.0</td>\n",
       "      <td>3.0</td>\n",
       "      <td>3.0</td>\n",
       "      <td>3.0</td>\n",
       "      <td>3.0</td>\n",
       "      <td>2.0</td>\n",
       "      <td>2.0</td>\n",
       "      <td>3.0</td>\n",
       "      <td>1</td>\n",
       "    </tr>\n",
       "    <tr>\n",
       "      <th>1</th>\n",
       "      <td>1.0</td>\n",
       "      <td>NaN</td>\n",
       "      <td>48.0</td>\n",
       "      <td>107.0</td>\n",
       "      <td>105.0</td>\n",
       "      <td>90.0</td>\n",
       "      <td>170.0</td>\n",
       "      <td>NaN</td>\n",
       "      <td>NaN</td>\n",
       "      <td>NaN</td>\n",
       "      <td>...</td>\n",
       "      <td>NaN</td>\n",
       "      <td>3.0</td>\n",
       "      <td>3.0</td>\n",
       "      <td>2.0</td>\n",
       "      <td>3.0</td>\n",
       "      <td>3.0</td>\n",
       "      <td>2.0</td>\n",
       "      <td>3.0</td>\n",
       "      <td>3.0</td>\n",
       "      <td>1</td>\n",
       "    </tr>\n",
       "    <tr>\n",
       "      <th>1</th>\n",
       "      <td>2.0</td>\n",
       "      <td>54.0</td>\n",
       "      <td>41.0</td>\n",
       "      <td>98.0</td>\n",
       "      <td>99.0</td>\n",
       "      <td>61.7</td>\n",
       "      <td>156.0</td>\n",
       "      <td>NaN</td>\n",
       "      <td>NaN</td>\n",
       "      <td>NaN</td>\n",
       "      <td>...</td>\n",
       "      <td>1.0</td>\n",
       "      <td>2.0</td>\n",
       "      <td>1.0</td>\n",
       "      <td>2.0</td>\n",
       "      <td>0.0</td>\n",
       "      <td>1.0</td>\n",
       "      <td>1.0</td>\n",
       "      <td>1.0</td>\n",
       "      <td>1.0</td>\n",
       "      <td>1</td>\n",
       "    </tr>\n",
       "  </tbody>\n",
       "</table>\n",
       "<p>5 rows × 72 columns</p>\n",
       "</div>"
      ],
      "text/plain": [
       "        MaritalStatus   age  NeckDiameter  AbdomenDiameter  PelvicDiameter  \\\n",
       "Gender                                                                       \n",
       "1                 2.0  35.0          50.0            136.0           125.0   \n",
       "2                 2.0  57.0          42.0            111.0           117.0   \n",
       "1                 2.0   NaN          43.0            106.0           107.0   \n",
       "1                 1.0   NaN          48.0            107.0           105.0   \n",
       "1                 2.0  54.0          41.0             98.0            99.0   \n",
       "\n",
       "        Weight  Height  Malampaty  Micrognotia  snoring1  ...  DASdepressed  \\\n",
       "Gender                                                    ...                 \n",
       "1        128.0   172.0        NaN          NaN       NaN  ...           2.0   \n",
       "2         84.0   148.0        NaN          NaN       NaN  ...           3.0   \n",
       "1         88.0   177.0        NaN          NaN       NaN  ...           3.0   \n",
       "1         90.0   170.0        NaN          NaN       NaN  ...           NaN   \n",
       "1         61.7   156.0        NaN          NaN       NaN  ...           1.0   \n",
       "\n",
       "        DASimpatient  DASfrightend  DASnowilling  DASworthless  DASirritable  \\\n",
       "Gender                                                                         \n",
       "1                3.0           1.0           2.0           2.0           3.0   \n",
       "2                3.0           1.0           2.0           3.0           3.0   \n",
       "1                1.0           3.0           3.0           3.0           3.0   \n",
       "1                3.0           3.0           2.0           3.0           3.0   \n",
       "1                2.0           1.0           2.0           0.0           1.0   \n",
       "\n",
       "        DAStachycardia  DASanxiety  DASanhedonia  Anxiety  \n",
       "Gender                                                     \n",
       "1                  2.0         1.0           2.0        1  \n",
       "2                  2.0         0.0           3.0        2  \n",
       "1                  2.0         2.0           3.0        1  \n",
       "1                  2.0         3.0           3.0        1  \n",
       "1                  1.0         1.0           1.0        1  \n",
       "\n",
       "[5 rows x 72 columns]"
      ]
     },
     "execution_count": 4,
     "metadata": {},
     "output_type": "execute_result"
    }
   ],
   "source": [
    "sleepclinic_df.head(5)"
   ]
  },
  {
   "cell_type": "code",
   "execution_count": 5,
   "metadata": {},
   "outputs": [
    {
     "data": {
      "text/plain": [
       "MaritalStatus      float64\n",
       "age                float64\n",
       "NeckDiameter       float64\n",
       "AbdomenDiameter    float64\n",
       "PelvicDiameter     float64\n",
       "                    ...   \n",
       "DASirritable       float64\n",
       "DAStachycardia     float64\n",
       "DASanxiety         float64\n",
       "DASanhedonia       float64\n",
       "Anxiety              int64\n",
       "Length: 72, dtype: object"
      ]
     },
     "execution_count": 5,
     "metadata": {},
     "output_type": "execute_result"
    }
   ],
   "source": [
    "sleepclinic_df.dtypes"
   ]
  },
  {
   "cell_type": "code",
   "execution_count": 6,
   "metadata": {},
   "outputs": [
    {
     "data": {
      "text/plain": [
       "(201, 72)"
      ]
     },
     "execution_count": 6,
     "metadata": {},
     "output_type": "execute_result"
    }
   ],
   "source": [
    "sleepclinic_df.shape"
   ]
  },
  {
   "cell_type": "code",
   "execution_count": 7,
   "metadata": {},
   "outputs": [],
   "source": [
    "# 1-preparing data"
   ]
  },
  {
   "cell_type": "code",
   "execution_count": 8,
   "metadata": {},
   "outputs": [],
   "source": [
    "# 2-1-cleansing data"
   ]
  },
  {
   "cell_type": "code",
   "execution_count": 9,
   "metadata": {},
   "outputs": [],
   "source": [
    "# 2-2-Duplicate data"
   ]
  },
  {
   "cell_type": "code",
   "execution_count": 10,
   "metadata": {},
   "outputs": [
    {
     "data": {
      "text/plain": [
       "(402, 72)"
      ]
     },
     "execution_count": 10,
     "metadata": {},
     "output_type": "execute_result"
    }
   ],
   "source": [
    "temp_df = sleepclinic_df.append(sleepclinic_df)\n",
    "temp_df.shape"
   ]
  },
  {
   "cell_type": "code",
   "execution_count": 11,
   "metadata": {},
   "outputs": [
    {
     "data": {
      "text/plain": [
       "(201, 72)"
      ]
     },
     "execution_count": 11,
     "metadata": {},
     "output_type": "execute_result"
    }
   ],
   "source": [
    "temp_df = temp_df.drop_duplicates()\n",
    "temp_df.shape"
   ]
  },
  {
   "cell_type": "code",
   "execution_count": 12,
   "metadata": {},
   "outputs": [],
   "source": [
    "# 2-3-Detect Outliers"
   ]
  },
  {
   "cell_type": "code",
   "execution_count": 13,
   "metadata": {},
   "outputs": [],
   "source": [
    "def outlier_detect(sleepclinic_df):\n",
    "    for i in sleepclinic_df.describe().columns:\n",
    "        Q1=sleepclinic_df.describe().at['25%',i]\n",
    "        Q3=sleepclinic_df.describe().at['75%',i]\n",
    "        IQR=Q3 - Q1\n",
    "        LTV=Q1 - 1.5 * IQR\n",
    "        UTV=Q3 + 1.5 * IQR\n",
    "        x=np.array(sleepclinic_df[i])\n",
    "        p=[]\n",
    "        for j in x:\n",
    "            if j < LTV or j>UTV:\n",
    "                p.append(sleepclinic_df[i].median())\n",
    "            else:\n",
    "                p.append(j)\n",
    "        sleepclinic_df[i]=p\n",
    "    return sleepclinic_df"
   ]
  },
  {
   "cell_type": "code",
   "execution_count": 14,
   "metadata": {},
   "outputs": [],
   "source": [
    "# 2-4-Missing Data"
   ]
  },
  {
   "cell_type": "code",
   "execution_count": 15,
   "metadata": {},
   "outputs": [
    {
     "data": {
      "text/plain": [
       "['MaritalStatus',\n",
       " 'age',\n",
       " 'NeckDiameter',\n",
       " 'AbdomenDiameter',\n",
       " 'PelvicDiameter',\n",
       " 'Weight',\n",
       " 'Height',\n",
       " 'Malampaty',\n",
       " 'Micrognotia',\n",
       " 'snoring1',\n",
       " 'hypersomnia',\n",
       " 'insomnia',\n",
       " 'abnormalmovement',\n",
       " 'familyhistory',\n",
       " 'morninghedeache',\n",
       " 'Decreasefocus',\n",
       " 'Sweating',\n",
       " 'Fasciculation',\n",
       " 'Toothache',\n",
       " 'Nightmare1',\n",
       " 'Restlessness',\n",
       " 'drytongue',\n",
       " 'sleepwalking',\n",
       " 'speakinsleep',\n",
       " 'migrane',\n",
       " 'Parkinson',\n",
       " 'RLS',\n",
       " 'arrhythmia',\n",
       " 'Congestiveinsufficiency',\n",
       " 'PTSD',\n",
       " 'BPH',\n",
       " 'COPD',\n",
       " 'pepticulcer',\n",
       " 'DASaggitation',\n",
       " 'DASdrymouth',\n",
       " 'DASnohope',\n",
       " 'DASdyspnea',\n",
       " 'DASambitious',\n",
       " 'DASextrismus',\n",
       " 'DAStremor',\n",
       " 'DASnoenergy',\n",
       " 'DASsillyjob',\n",
       " 'DASnowait',\n",
       " 'DASconfuse',\n",
       " 'DASrestless',\n",
       " 'DASdepressed',\n",
       " 'DASimpatient',\n",
       " 'DASfrightend',\n",
       " 'DASnowilling',\n",
       " 'DASworthless',\n",
       " 'DASirritable',\n",
       " 'DAStachycardia',\n",
       " 'DASanxiety',\n",
       " 'DASanhedonia']"
      ]
     },
     "execution_count": 15,
     "metadata": {},
     "output_type": "execute_result"
    }
   ],
   "source": [
    "column_names = sleepclinic_df.columns\n",
    "Nan_columns = list()\n",
    "\n",
    "for col in column_names:\n",
    "    if (True in np.array(sleepclinic_df[col].isnull())):\n",
    "        Nan_columns.append(col)\n",
    "\n",
    "Nan_columns"
   ]
  },
  {
   "cell_type": "code",
   "execution_count": 16,
   "metadata": {},
   "outputs": [],
   "source": [
    "import pandas as pd\n",
    "from sklearn.impute import SimpleImputer\n"
   ]
  },
  {
   "cell_type": "code",
   "execution_count": 17,
   "metadata": {},
   "outputs": [],
   "source": [
    "imp = SimpleImputer(missing_values=np.nan, strategy='most_frequent')\n",
    "sleepclinic_df=(pd.DataFrame(imp.fit_transform(sleepclinic_df),\n",
    "                   columns=sleepclinic_df.columns,\n",
    "                   index=sleepclinic_df.index))"
   ]
  },
  {
   "cell_type": "code",
   "execution_count": 18,
   "metadata": {},
   "outputs": [
    {
     "data": {
      "text/html": [
       "<div>\n",
       "<style scoped>\n",
       "    .dataframe tbody tr th:only-of-type {\n",
       "        vertical-align: middle;\n",
       "    }\n",
       "\n",
       "    .dataframe tbody tr th {\n",
       "        vertical-align: top;\n",
       "    }\n",
       "\n",
       "    .dataframe thead th {\n",
       "        text-align: right;\n",
       "    }\n",
       "</style>\n",
       "<table border=\"1\" class=\"dataframe\">\n",
       "  <thead>\n",
       "    <tr style=\"text-align: right;\">\n",
       "      <th></th>\n",
       "      <th>MaritalStatus</th>\n",
       "      <th>age</th>\n",
       "      <th>NeckDiameter</th>\n",
       "      <th>AbdomenDiameter</th>\n",
       "      <th>PelvicDiameter</th>\n",
       "      <th>Weight</th>\n",
       "      <th>Height</th>\n",
       "      <th>Malampaty</th>\n",
       "      <th>Micrognotia</th>\n",
       "      <th>snoring1</th>\n",
       "      <th>...</th>\n",
       "      <th>DASdepressed</th>\n",
       "      <th>DASimpatient</th>\n",
       "      <th>DASfrightend</th>\n",
       "      <th>DASnowilling</th>\n",
       "      <th>DASworthless</th>\n",
       "      <th>DASirritable</th>\n",
       "      <th>DAStachycardia</th>\n",
       "      <th>DASanxiety</th>\n",
       "      <th>DASanhedonia</th>\n",
       "      <th>Anxiety</th>\n",
       "    </tr>\n",
       "    <tr>\n",
       "      <th>Gender</th>\n",
       "      <th></th>\n",
       "      <th></th>\n",
       "      <th></th>\n",
       "      <th></th>\n",
       "      <th></th>\n",
       "      <th></th>\n",
       "      <th></th>\n",
       "      <th></th>\n",
       "      <th></th>\n",
       "      <th></th>\n",
       "      <th></th>\n",
       "      <th></th>\n",
       "      <th></th>\n",
       "      <th></th>\n",
       "      <th></th>\n",
       "      <th></th>\n",
       "      <th></th>\n",
       "      <th></th>\n",
       "      <th></th>\n",
       "      <th></th>\n",
       "      <th></th>\n",
       "    </tr>\n",
       "  </thead>\n",
       "  <tbody>\n",
       "    <tr>\n",
       "      <th>1</th>\n",
       "      <td>2.0</td>\n",
       "      <td>35.0</td>\n",
       "      <td>50.0</td>\n",
       "      <td>136.0</td>\n",
       "      <td>125.0</td>\n",
       "      <td>128.0</td>\n",
       "      <td>172.0</td>\n",
       "      <td>1.0</td>\n",
       "      <td>1.0</td>\n",
       "      <td>2.0</td>\n",
       "      <td>...</td>\n",
       "      <td>2.0</td>\n",
       "      <td>3.0</td>\n",
       "      <td>1.0</td>\n",
       "      <td>2.0</td>\n",
       "      <td>2.0</td>\n",
       "      <td>3.0</td>\n",
       "      <td>2.0</td>\n",
       "      <td>1.0</td>\n",
       "      <td>2.0</td>\n",
       "      <td>1.0</td>\n",
       "    </tr>\n",
       "    <tr>\n",
       "      <th>2</th>\n",
       "      <td>2.0</td>\n",
       "      <td>57.0</td>\n",
       "      <td>42.0</td>\n",
       "      <td>111.0</td>\n",
       "      <td>117.0</td>\n",
       "      <td>84.0</td>\n",
       "      <td>148.0</td>\n",
       "      <td>1.0</td>\n",
       "      <td>1.0</td>\n",
       "      <td>2.0</td>\n",
       "      <td>...</td>\n",
       "      <td>3.0</td>\n",
       "      <td>3.0</td>\n",
       "      <td>1.0</td>\n",
       "      <td>2.0</td>\n",
       "      <td>3.0</td>\n",
       "      <td>3.0</td>\n",
       "      <td>2.0</td>\n",
       "      <td>0.0</td>\n",
       "      <td>3.0</td>\n",
       "      <td>2.0</td>\n",
       "    </tr>\n",
       "    <tr>\n",
       "      <th>1</th>\n",
       "      <td>2.0</td>\n",
       "      <td>54.0</td>\n",
       "      <td>43.0</td>\n",
       "      <td>106.0</td>\n",
       "      <td>107.0</td>\n",
       "      <td>88.0</td>\n",
       "      <td>177.0</td>\n",
       "      <td>1.0</td>\n",
       "      <td>1.0</td>\n",
       "      <td>2.0</td>\n",
       "      <td>...</td>\n",
       "      <td>3.0</td>\n",
       "      <td>1.0</td>\n",
       "      <td>3.0</td>\n",
       "      <td>3.0</td>\n",
       "      <td>3.0</td>\n",
       "      <td>3.0</td>\n",
       "      <td>2.0</td>\n",
       "      <td>2.0</td>\n",
       "      <td>3.0</td>\n",
       "      <td>1.0</td>\n",
       "    </tr>\n",
       "    <tr>\n",
       "      <th>1</th>\n",
       "      <td>1.0</td>\n",
       "      <td>54.0</td>\n",
       "      <td>48.0</td>\n",
       "      <td>107.0</td>\n",
       "      <td>105.0</td>\n",
       "      <td>90.0</td>\n",
       "      <td>170.0</td>\n",
       "      <td>1.0</td>\n",
       "      <td>1.0</td>\n",
       "      <td>2.0</td>\n",
       "      <td>...</td>\n",
       "      <td>3.0</td>\n",
       "      <td>3.0</td>\n",
       "      <td>3.0</td>\n",
       "      <td>2.0</td>\n",
       "      <td>3.0</td>\n",
       "      <td>3.0</td>\n",
       "      <td>2.0</td>\n",
       "      <td>3.0</td>\n",
       "      <td>3.0</td>\n",
       "      <td>1.0</td>\n",
       "    </tr>\n",
       "    <tr>\n",
       "      <th>1</th>\n",
       "      <td>2.0</td>\n",
       "      <td>54.0</td>\n",
       "      <td>41.0</td>\n",
       "      <td>98.0</td>\n",
       "      <td>99.0</td>\n",
       "      <td>61.7</td>\n",
       "      <td>156.0</td>\n",
       "      <td>1.0</td>\n",
       "      <td>1.0</td>\n",
       "      <td>2.0</td>\n",
       "      <td>...</td>\n",
       "      <td>1.0</td>\n",
       "      <td>2.0</td>\n",
       "      <td>1.0</td>\n",
       "      <td>2.0</td>\n",
       "      <td>0.0</td>\n",
       "      <td>1.0</td>\n",
       "      <td>1.0</td>\n",
       "      <td>1.0</td>\n",
       "      <td>1.0</td>\n",
       "      <td>1.0</td>\n",
       "    </tr>\n",
       "  </tbody>\n",
       "</table>\n",
       "<p>5 rows × 72 columns</p>\n",
       "</div>"
      ],
      "text/plain": [
       "        MaritalStatus   age  NeckDiameter  AbdomenDiameter  PelvicDiameter  \\\n",
       "Gender                                                                       \n",
       "1                 2.0  35.0          50.0            136.0           125.0   \n",
       "2                 2.0  57.0          42.0            111.0           117.0   \n",
       "1                 2.0  54.0          43.0            106.0           107.0   \n",
       "1                 1.0  54.0          48.0            107.0           105.0   \n",
       "1                 2.0  54.0          41.0             98.0            99.0   \n",
       "\n",
       "        Weight  Height  Malampaty  Micrognotia  snoring1  ...  DASdepressed  \\\n",
       "Gender                                                    ...                 \n",
       "1        128.0   172.0        1.0          1.0       2.0  ...           2.0   \n",
       "2         84.0   148.0        1.0          1.0       2.0  ...           3.0   \n",
       "1         88.0   177.0        1.0          1.0       2.0  ...           3.0   \n",
       "1         90.0   170.0        1.0          1.0       2.0  ...           3.0   \n",
       "1         61.7   156.0        1.0          1.0       2.0  ...           1.0   \n",
       "\n",
       "        DASimpatient  DASfrightend  DASnowilling  DASworthless  DASirritable  \\\n",
       "Gender                                                                         \n",
       "1                3.0           1.0           2.0           2.0           3.0   \n",
       "2                3.0           1.0           2.0           3.0           3.0   \n",
       "1                1.0           3.0           3.0           3.0           3.0   \n",
       "1                3.0           3.0           2.0           3.0           3.0   \n",
       "1                2.0           1.0           2.0           0.0           1.0   \n",
       "\n",
       "        DAStachycardia  DASanxiety  DASanhedonia  Anxiety  \n",
       "Gender                                                     \n",
       "1                  2.0         1.0           2.0      1.0  \n",
       "2                  2.0         0.0           3.0      2.0  \n",
       "1                  2.0         2.0           3.0      1.0  \n",
       "1                  2.0         3.0           3.0      1.0  \n",
       "1                  1.0         1.0           1.0      1.0  \n",
       "\n",
       "[5 rows x 72 columns]"
      ]
     },
     "execution_count": 18,
     "metadata": {},
     "output_type": "execute_result"
    }
   ],
   "source": [
    "sleepclinic_df.head(5)"
   ]
  },
  {
   "cell_type": "code",
   "execution_count": 19,
   "metadata": {},
   "outputs": [],
   "source": [
    "# 2-5-Normalize Data"
   ]
  },
  {
   "cell_type": "code",
   "execution_count": 20,
   "metadata": {},
   "outputs": [],
   "source": [
    "import pandas as pd    \n",
    "from sklearn.preprocessing import StandardScaler"
   ]
  },
  {
   "cell_type": "code",
   "execution_count": 21,
   "metadata": {},
   "outputs": [],
   "source": [
    "ss = StandardScaler()\n",
    "sleepclinic_df= pd.DataFrame(ss.fit_transform(sleepclinic_df),columns = sleepclinic_df.columns)"
   ]
  },
  {
   "cell_type": "code",
   "execution_count": 22,
   "metadata": {},
   "outputs": [
    {
     "data": {
      "text/html": [
       "<div>\n",
       "<style scoped>\n",
       "    .dataframe tbody tr th:only-of-type {\n",
       "        vertical-align: middle;\n",
       "    }\n",
       "\n",
       "    .dataframe tbody tr th {\n",
       "        vertical-align: top;\n",
       "    }\n",
       "\n",
       "    .dataframe thead th {\n",
       "        text-align: right;\n",
       "    }\n",
       "</style>\n",
       "<table border=\"1\" class=\"dataframe\">\n",
       "  <thead>\n",
       "    <tr style=\"text-align: right;\">\n",
       "      <th></th>\n",
       "      <th>MaritalStatus</th>\n",
       "      <th>age</th>\n",
       "      <th>NeckDiameter</th>\n",
       "      <th>AbdomenDiameter</th>\n",
       "      <th>PelvicDiameter</th>\n",
       "      <th>Weight</th>\n",
       "      <th>Height</th>\n",
       "      <th>Malampaty</th>\n",
       "      <th>Micrognotia</th>\n",
       "      <th>snoring1</th>\n",
       "      <th>...</th>\n",
       "      <th>DASdepressed</th>\n",
       "      <th>DASimpatient</th>\n",
       "      <th>DASfrightend</th>\n",
       "      <th>DASnowilling</th>\n",
       "      <th>DASworthless</th>\n",
       "      <th>DASirritable</th>\n",
       "      <th>DAStachycardia</th>\n",
       "      <th>DASanxiety</th>\n",
       "      <th>DASanhedonia</th>\n",
       "      <th>Anxiety</th>\n",
       "    </tr>\n",
       "  </thead>\n",
       "  <tbody>\n",
       "    <tr>\n",
       "      <th>0</th>\n",
       "      <td>0.368230</td>\n",
       "      <td>-1.017535</td>\n",
       "      <td>1.208683</td>\n",
       "      <td>2.309482</td>\n",
       "      <td>1.761038</td>\n",
       "      <td>2.112786</td>\n",
       "      <td>0.298396</td>\n",
       "      <td>-0.654155</td>\n",
       "      <td>-0.50208</td>\n",
       "      <td>0.629153</td>\n",
       "      <td>...</td>\n",
       "      <td>0.258194</td>\n",
       "      <td>1.066789</td>\n",
       "      <td>-0.212211</td>\n",
       "      <td>0.339221</td>\n",
       "      <td>0.673674</td>\n",
       "      <td>0.929229</td>\n",
       "      <td>0.617646</td>\n",
       "      <td>-0.089218</td>\n",
       "      <td>0.726560</td>\n",
       "      <td>-1.035454</td>\n",
       "    </tr>\n",
       "    <tr>\n",
       "      <th>1</th>\n",
       "      <td>0.368230</td>\n",
       "      <td>0.580313</td>\n",
       "      <td>-0.156178</td>\n",
       "      <td>0.398541</td>\n",
       "      <td>0.944525</td>\n",
       "      <td>0.009371</td>\n",
       "      <td>-1.050046</td>\n",
       "      <td>-0.654155</td>\n",
       "      <td>-0.50208</td>\n",
       "      <td>0.629153</td>\n",
       "      <td>...</td>\n",
       "      <td>1.095244</td>\n",
       "      <td>1.066789</td>\n",
       "      <td>-0.212211</td>\n",
       "      <td>0.339221</td>\n",
       "      <td>1.519976</td>\n",
       "      <td>0.929229</td>\n",
       "      <td>0.617646</td>\n",
       "      <td>-0.985861</td>\n",
       "      <td>1.575622</td>\n",
       "      <td>0.965760</td>\n",
       "    </tr>\n",
       "    <tr>\n",
       "      <th>2</th>\n",
       "      <td>0.368230</td>\n",
       "      <td>0.362425</td>\n",
       "      <td>0.014430</td>\n",
       "      <td>0.016352</td>\n",
       "      <td>-0.076116</td>\n",
       "      <td>0.200590</td>\n",
       "      <td>0.579321</td>\n",
       "      <td>-0.654155</td>\n",
       "      <td>-0.50208</td>\n",
       "      <td>0.629153</td>\n",
       "      <td>...</td>\n",
       "      <td>1.095244</td>\n",
       "      <td>-0.742701</td>\n",
       "      <td>1.565055</td>\n",
       "      <td>1.260619</td>\n",
       "      <td>1.519976</td>\n",
       "      <td>0.929229</td>\n",
       "      <td>0.617646</td>\n",
       "      <td>0.807424</td>\n",
       "      <td>1.575622</td>\n",
       "      <td>-1.035454</td>\n",
       "    </tr>\n",
       "    <tr>\n",
       "      <th>3</th>\n",
       "      <td>-2.715695</td>\n",
       "      <td>0.362425</td>\n",
       "      <td>0.867468</td>\n",
       "      <td>0.092790</td>\n",
       "      <td>-0.280245</td>\n",
       "      <td>0.296200</td>\n",
       "      <td>0.186026</td>\n",
       "      <td>-0.654155</td>\n",
       "      <td>-0.50208</td>\n",
       "      <td>0.629153</td>\n",
       "      <td>...</td>\n",
       "      <td>1.095244</td>\n",
       "      <td>1.066789</td>\n",
       "      <td>1.565055</td>\n",
       "      <td>0.339221</td>\n",
       "      <td>1.519976</td>\n",
       "      <td>0.929229</td>\n",
       "      <td>0.617646</td>\n",
       "      <td>1.704067</td>\n",
       "      <td>1.575622</td>\n",
       "      <td>-1.035454</td>\n",
       "    </tr>\n",
       "    <tr>\n",
       "      <th>4</th>\n",
       "      <td>0.368230</td>\n",
       "      <td>0.362425</td>\n",
       "      <td>-0.326786</td>\n",
       "      <td>-0.595149</td>\n",
       "      <td>-0.892630</td>\n",
       "      <td>-1.056678</td>\n",
       "      <td>-0.600565</td>\n",
       "      <td>-0.654155</td>\n",
       "      <td>-0.50208</td>\n",
       "      <td>0.629153</td>\n",
       "      <td>...</td>\n",
       "      <td>-0.578855</td>\n",
       "      <td>0.162044</td>\n",
       "      <td>-0.212211</td>\n",
       "      <td>0.339221</td>\n",
       "      <td>-1.018932</td>\n",
       "      <td>-0.858091</td>\n",
       "      <td>-0.510962</td>\n",
       "      <td>-0.089218</td>\n",
       "      <td>-0.122501</td>\n",
       "      <td>-1.035454</td>\n",
       "    </tr>\n",
       "  </tbody>\n",
       "</table>\n",
       "<p>5 rows × 72 columns</p>\n",
       "</div>"
      ],
      "text/plain": [
       "   MaritalStatus       age  NeckDiameter  AbdomenDiameter  PelvicDiameter  \\\n",
       "0       0.368230 -1.017535      1.208683         2.309482        1.761038   \n",
       "1       0.368230  0.580313     -0.156178         0.398541        0.944525   \n",
       "2       0.368230  0.362425      0.014430         0.016352       -0.076116   \n",
       "3      -2.715695  0.362425      0.867468         0.092790       -0.280245   \n",
       "4       0.368230  0.362425     -0.326786        -0.595149       -0.892630   \n",
       "\n",
       "     Weight    Height  Malampaty  Micrognotia  snoring1  ...  DASdepressed  \\\n",
       "0  2.112786  0.298396  -0.654155     -0.50208  0.629153  ...      0.258194   \n",
       "1  0.009371 -1.050046  -0.654155     -0.50208  0.629153  ...      1.095244   \n",
       "2  0.200590  0.579321  -0.654155     -0.50208  0.629153  ...      1.095244   \n",
       "3  0.296200  0.186026  -0.654155     -0.50208  0.629153  ...      1.095244   \n",
       "4 -1.056678 -0.600565  -0.654155     -0.50208  0.629153  ...     -0.578855   \n",
       "\n",
       "   DASimpatient  DASfrightend  DASnowilling  DASworthless  DASirritable  \\\n",
       "0      1.066789     -0.212211      0.339221      0.673674      0.929229   \n",
       "1      1.066789     -0.212211      0.339221      1.519976      0.929229   \n",
       "2     -0.742701      1.565055      1.260619      1.519976      0.929229   \n",
       "3      1.066789      1.565055      0.339221      1.519976      0.929229   \n",
       "4      0.162044     -0.212211      0.339221     -1.018932     -0.858091   \n",
       "\n",
       "   DAStachycardia  DASanxiety  DASanhedonia   Anxiety  \n",
       "0        0.617646   -0.089218      0.726560 -1.035454  \n",
       "1        0.617646   -0.985861      1.575622  0.965760  \n",
       "2        0.617646    0.807424      1.575622 -1.035454  \n",
       "3        0.617646    1.704067      1.575622 -1.035454  \n",
       "4       -0.510962   -0.089218     -0.122501 -1.035454  \n",
       "\n",
       "[5 rows x 72 columns]"
      ]
     },
     "execution_count": 22,
     "metadata": {},
     "output_type": "execute_result"
    }
   ],
   "source": [
    "sleepclinic_df.head(5)"
   ]
  },
  {
   "cell_type": "code",
   "execution_count": 23,
   "metadata": {},
   "outputs": [],
   "source": [
    "#test-train"
   ]
  },
  {
   "cell_type": "code",
   "execution_count": 24,
   "metadata": {},
   "outputs": [],
   "source": [
    "from sklearn.model_selection import train_test_split\n",
    "from sklearn.metrics import mean_squared_error\n",
    "from sklearn.metrics import mean_absolute_error\n",
    "from sklearn.metrics import recall_score\n",
    "from sklearn.preprocessing import label_binarize"
   ]
  },
  {
   "cell_type": "code",
   "execution_count": 25,
   "metadata": {},
   "outputs": [],
   "source": [
    "#target!"
   ]
  },
  {
   "cell_type": "code",
   "execution_count": 26,
   "metadata": {},
   "outputs": [],
   "source": [
    "sleepclinic_df['Anxiety']=sleepclinic_df['Anxiety'].astype('str')"
   ]
  },
  {
   "cell_type": "code",
   "execution_count": 27,
   "metadata": {},
   "outputs": [],
   "source": [
    "X = sleepclinic_df.loc[:,(sleepclinic_df.columns != 'Anxiety')]  \n",
    "Y = sleepclinic_df.Anxiety"
   ]
  },
  {
   "cell_type": "code",
   "execution_count": 28,
   "metadata": {},
   "outputs": [],
   "source": [
    "#10-fold"
   ]
  },
  {
   "cell_type": "code",
   "execution_count": 29,
   "metadata": {},
   "outputs": [],
   "source": [
    "from sklearn.model_selection import StratifiedKFold"
   ]
  },
  {
   "cell_type": "code",
   "execution_count": 30,
   "metadata": {},
   "outputs": [],
   "source": [
    "skf = StratifiedKFold(n_splits=10)    "
   ]
  },
  {
   "cell_type": "code",
   "execution_count": 31,
   "metadata": {},
   "outputs": [],
   "source": [
    "predicted_Y = []\n",
    "expected_Y = []"
   ]
  },
  {
   "cell_type": "code",
   "execution_count": 32,
   "metadata": {},
   "outputs": [],
   "source": [
    " for train_index, test_index in skf.split(X, Y):\n",
    "         X_train, X_test = X.loc[train_index], X.loc[test_index]\n",
    "         Y_train, Y_test = Y[train_index], Y[test_index]       "
   ]
  },
  {
   "cell_type": "code",
   "execution_count": 33,
   "metadata": {},
   "outputs": [],
   "source": [
    "#Tree-gini"
   ]
  },
  {
   "cell_type": "code",
   "execution_count": 34,
   "metadata": {},
   "outputs": [],
   "source": [
    "from sklearn.tree import DecisionTreeClassifier\n",
    "from sklearn.preprocessing import scale\n",
    "from sklearn.model_selection import train_test_split\n",
    "from sklearn.metrics import accuracy_score\n",
    "import matplotlib.pyplot as plt\n",
    "from sklearn.metrics import confusion_matrix\n",
    "from sklearn.metrics import classification_report\n",
    "from sklearn.metrics import cohen_kappa_score"
   ]
  },
  {
   "cell_type": "code",
   "execution_count": 35,
   "metadata": {},
   "outputs": [],
   "source": [
    "clf = DecisionTreeClassifier(criterion = \"gini\", random_state = 100).fit(X_train, Y_train)\n"
   ]
  },
  {
   "cell_type": "code",
   "execution_count": 36,
   "metadata": {},
   "outputs": [],
   "source": [
    "Y_pred = clf.predict(X_test)"
   ]
  },
  {
   "cell_type": "code",
   "execution_count": 37,
   "metadata": {},
   "outputs": [],
   "source": [
    "#Evaluation"
   ]
  },
  {
   "cell_type": "code",
   "execution_count": 38,
   "metadata": {},
   "outputs": [
    {
     "data": {
      "text/plain": [
       "array([[6, 3],\n",
       "       [2, 9]], dtype=int64)"
      ]
     },
     "execution_count": 38,
     "metadata": {},
     "output_type": "execute_result"
    }
   ],
   "source": [
    "confusion_matrix(Y_test, Y_pred)"
   ]
  },
  {
   "cell_type": "code",
   "execution_count": 39,
   "metadata": {},
   "outputs": [],
   "source": [
    "cr= classification_report(Y_test, Y_pred)"
   ]
  },
  {
   "cell_type": "code",
   "execution_count": 40,
   "metadata": {},
   "outputs": [
    {
     "name": "stdout",
     "output_type": "stream",
     "text": [
      "                     precision    recall  f1-score   support\n",
      "\n",
      "-1.0354539818135855       0.75      0.67      0.71         9\n",
      " 0.9657599638069014       0.75      0.82      0.78        11\n",
      "\n",
      "           accuracy                           0.75        20\n",
      "          macro avg       0.75      0.74      0.74        20\n",
      "       weighted avg       0.75      0.75      0.75        20\n",
      "\n"
     ]
    }
   ],
   "source": [
    "print(cr)"
   ]
  },
  {
   "cell_type": "code",
   "execution_count": 41,
   "metadata": {},
   "outputs": [
    {
     "name": "stdout",
     "output_type": "stream",
     "text": [
      "accuracy score: 0.75\n"
     ]
    }
   ],
   "source": [
    "print(f'accuracy score: {accuracy_score(Y_test, Y_pred)}')"
   ]
  },
  {
   "cell_type": "code",
   "execution_count": 42,
   "metadata": {},
   "outputs": [
    {
     "name": "stdout",
     "output_type": "stream",
     "text": [
      "0.4897959183673469\n"
     ]
    }
   ],
   "source": [
    "print (cohen_kappa_score(Y_test, Y_pred))"
   ]
  },
  {
   "cell_type": "code",
   "execution_count": 43,
   "metadata": {},
   "outputs": [],
   "source": [
    "#ROC"
   ]
  },
  {
   "cell_type": "code",
   "execution_count": 44,
   "metadata": {},
   "outputs": [],
   "source": [
    "from sklearn.metrics import roc_auc_score\n",
    "from sklearn.metrics import roc_curve\n",
    "from matplotlib import pyplot\n",
    "from sklearn import metrics"
   ]
  },
  {
   "cell_type": "code",
   "execution_count": 45,
   "metadata": {},
   "outputs": [
    {
     "data": {
      "image/png": "[encoded data removed]",
      "text/plain": [
       "<Figure size 432x288 with 1 Axes>"
      ]
     },
     "metadata": {
      "needs_background": "light"
     },
     "output_type": "display_data"
    }
   ],
   "source": [
    "metrics.plot_roc_curve(clf, X_test, Y_test)  \n",
    "plt.plot([0, 1], [0, 1], color='orange', linestyle='--')\n",
    "plt.show()"
   ]
  },
  {
   "cell_type": "code",
   "execution_count": null,
   "metadata": {},
   "outputs": [],
   "source": []
  }
 ],
 "metadata": {
  "kernelspec": {
   "display_name": "Python 3",
   "language": "python",
   "name": "python3"
  },
  "language_info": {
   "codemirror_mode": {
    "name": "ipython",
    "version": 3
   },
   "file_extension": ".py",
   "mimetype": "text/x-python",
   "name": "python",
   "nbconvert_exporter": "python",
   "pygments_lexer": "ipython3",
   "version": "3.8.5"
  }
 },
 "nbformat": 4,
 "nbformat_minor": 4
}
